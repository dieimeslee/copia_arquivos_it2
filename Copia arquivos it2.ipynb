{
 "cells": [
  {
   "cell_type": "code",
   "execution_count": 41,
   "id": "c211cf01",
   "metadata": {},
   "outputs": [
    {
     "name": "stdout",
     "output_type": "stream",
     "text": [
      "Por favor, insira a data no formato DD/MM/AAAA: 11/09/2023\n",
      "Arquivo DFCBRAZIL20230911-151758.csv copiado\n",
      "Arquivo DFCBRAZIL20230911-151818.csv copiado\n",
      "Arquivo DFCARGENTINA20230911-161924.csv copiado\n",
      "Arquivo DFCARGENTINA20230911-161940.csv copiado\n",
      "Arquivo DFCBOLIVIA20230911-163055.csv copiado\n",
      "Arquivo DFCBOLIVIA20230911-163131.csv copiado\n",
      "Arquivo DFCCHILE20230911-164620.csv copiado\n",
      "Arquivo DFCCHILE20230911-164640.csv copiado\n",
      "Arquivo DFCPARAGUAY20230911-171516.csv copiado\n",
      "Arquivo DFCPARAGUAY20230911-171538.csv copiado\n",
      "Arquivo DFCPARAGUAY20230911-172037.csv copiado\n",
      "Arquivo DFCPARAGUAY20230911-172105.csv copiado\n",
      "Arquivo DFCURUGUAY20230911-173240.csv copiado\n",
      "Arquivo DFCURUGUAY20230911-173305.csv copiado\n",
      "Nenhum arquivo encontrado com a data 20230911 em C:\\Users\\99837808\\OneDrive - Anheuser-Busch InBev\\Desktop\\1PROJECT\\copia pasta it2\\Malts\n",
      "Número total de arquivos copiados: 14\n"
     ]
    }
   ],
   "source": [
    "import os\n",
    "import pandas as pd\n",
    "import shutil\n",
    "from datetime import datetime\n",
    "\n",
    "# Solicita ao usuário para inserir a data\n",
    "data = input('Por favor, insira a data no formato DD/MM/AAAA: ')\n",
    "\n",
    "# Converte a string de data para um objeto datetime\n",
    "data = datetime.strptime(data, '%d/%m/%Y')\n",
    "\n",
    "# Converte o objeto datetime de volta para uma string no formato desejado\n",
    "data = data.strftime('%Y%m%d')\n",
    "\n",
    "# Abrindo o arquivo Excel\n",
    "xls = pd.ExcelFile('caminho_para_arquivo_IT2.xlsx')\n",
    "\n",
    "# Lendo as sheets\n",
    "df_origem = pd.read_excel(xls, 'origem', header=None)\n",
    "df_destino = pd.read_excel(xls, 'destino', header=None)\n",
    "\n",
    "# Fechando o arquivo Excel\n",
    "xls.close()\n",
    "\n",
    "# Obtendo os caminhos das pastas origem e destino\n",
    "pastas_origem = df_origem.dropna().values.tolist()\n",
    "pasta_destino = df_destino.values[0][0]\n",
    "\n",
    "# Inicializa o contador de arquivos copiados\n",
    "contador = 0\n",
    "\n",
    "for pasta in pastas_origem:\n",
    "    encontrou_arquivo = False\n",
    "    for root, dirs, files in os.walk(pasta[0]):\n",
    "        for file in files:\n",
    "            # Extrai a data do nome do arquivo\n",
    "            data_arquivo = file[-19:-11]\n",
    "            # Se a data do arquivo corresponder à data inserida pelo usuário\n",
    "            if data_arquivo == data:\n",
    "                encontrou_arquivo = True\n",
    "                shutil.copy2(os.path.join(root, file), pasta_destino)\n",
    "                print(f'Arquivo {file} copiado')\n",
    "                # Incrementa o contador de arquivos copiados\n",
    "                contador += 1\n",
    "    if not encontrou_arquivo:\n",
    "        print(f'Nenhum arquivo encontrado com a data {data} em {pasta[0]}')\n",
    "\n",
    "# Imprime o número total de arquivos copiados\n",
    "print(f'Número total de arquivos copiados: {contador}')\n"
   ]
  },
  {
   "cell_type": "code",
   "execution_count": null,
   "id": "4a18bc5d",
   "metadata": {},
   "outputs": [],
   "source": []
  }
 ],
 "metadata": {
  "kernelspec": {
   "display_name": "Python 3 (ipykernel)",
   "language": "python",
   "name": "python3"
  },
  "language_info": {
   "codemirror_mode": {
    "name": "ipython",
    "version": 3
   },
   "file_extension": ".py",
   "mimetype": "text/x-python",
   "name": "python",
   "nbconvert_exporter": "python",
   "pygments_lexer": "ipython3",
   "version": "3.9.13"
  }
 },
 "nbformat": 4,
 "nbformat_minor": 5
}
